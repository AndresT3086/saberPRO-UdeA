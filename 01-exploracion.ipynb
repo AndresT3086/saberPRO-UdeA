{
  "cells": [
    {
      "cell_type": "code",
      "execution_count": null,
      "metadata": {
        "id": "THN-sQj7pnZm"
      },
      "source": [
        "import pandas as pd"
      ],
      "outputs": []
    },
    {
      "cell_type": "code",
      "execution_count": null,
      "metadata": {
        "id": "zRrn41QRpnZo"
      },
      "source": [
        "datos = pd.read_csv('../data/train.csv')\n",
        "print('Datos cargados correctamente')"
      ],
      "outputs": []
    },
    {
      "cell_type": "code",
      "execution_count": null,
      "metadata": {
        "id": "Isak320xpnZp"
      },
      "source": [
        "datos.head()"
      ],
      "outputs": []
    },
    {
      "cell_type": "code",
      "execution_count": null,
      "metadata": {
        "id": "vinCmGrYpnZp"
      },
      "source": [
        "print('Total de estudiantes:', len(datos))"
      ],
      "outputs": []
    },
    {
      "cell_type": "code",
      "execution_count": null,
      "metadata": {
        "id": "rtIAkyiDpnZp"
      },
      "source": [
        "print('Número de columnas:', len(datos.columns))"
      ],
      "outputs": []
    },
    {
      "cell_type": "code",
      "execution_count": null,
      "metadata": {
        "id": "DGH60yDmpnZp"
      },
      "source": [
        "datos['RENDIMIENTO_GLOBAL'].value_counts()"
      ],
      "outputs": []
    },
    {
      "cell_type": "code",
      "execution_count": null,
      "metadata": {
        "id": "82mQrbcCpnZq"
      },
      "source": [
        "import matplotlib.pyplot as plt\n",
        "\n",
        "datos['RENDIMIENTO_GLOBAL'].value_counts().plot(kind='bar')\n",
        "plt.title('Estudiantes por nivel de rendimiento')\n",
        "plt.xlabel('Rendimiento')\n",
        "plt.ylabel('Cantidad de estudiantes')\n",
        "plt.show()"
      ],
      "outputs": []
    }
  ],
  "metadata": {
    "kernelspec": {
      "display_name": "Python 3",
      "language": "python",
      "name": "python3"
    },
    "language_info": {
      "name": "python",
      "version": "3.8.0"
    },
    "colab": {
      "provenance": []
    }
  },
  "nbformat": 4,
  "nbformat_minor": 0
}