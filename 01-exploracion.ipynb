{
 "cells": [
  {
   "cell_type": "code",
   "execution_count": null,
   "metadata": {},
   "source": [
    "# Exploración de Datos - Pruebas Saber Pro\n",
    "# Cargar la librería pandas para trabajar con datos\n",
    "import pandas as pd"
   ]
  },
  {
   "cell_type": "code",
   "execution_count": null,
   "metadata": {},
   "source": [
    "# Cargar el archivo de entrenamiento\n",
    "datos = pd.read_csv('../data/train.csv')\n",
    "print('Datos cargados correctamente')"
   ]
  },
  {
   "cell_type": "code",
   "execution_count": null,
   "metadata": {},
   "source": [
    "# Ver las primeras filas\n",
    "datos.head()"
   ]
  },
  {
   "cell_type": "code",
   "execution_count": null,
   "metadata": {},
   "source": [
    "# Ver cuántos estudiantes hay en total\n",
    "print('Total de estudiantes:', len(datos))"
   ]
  },
  {
   "cell_type": "code",
   "execution_count": null,
   "metadata": {},
   "source": [
    "# Ver cuántas columnas tiene el dataset\n",
    "print('Número de columnas:', len(datos.columns))"
   ]
  },
  {
   "cell_type": "code",
   "execution_count": null,
   "metadata": {},
   "source": [
    "# Ver cuántos estudiantes hay de cada nivel de rendimiento\n",
    "datos['RENDIMIENTO_GLOBAL'].value_counts()"
   ]
  },
  {
   "cell_type": "code",
   "execution_count": null,
   "metadata": {},
   "source": [
    "# Hacer un gráfico simple de barras\n",
    "import matplotlib.pyplot as plt\n",
    "\n",
    "datos['RENDIMIENTO_GLOBAL'].value_counts().plot(kind='bar')\n",
    "plt.title('Estudiantes por nivel de rendimiento')\n",
    "plt.xlabel('Rendimiento')\n",
    "plt.ylabel('Cantidad de estudiantes')\n",
    "plt.show()"
   ]
  }
 ],
 "metadata": {
  "kernelspec": {
   "display_name": "Python 3",
   "language": "python",
   "name": "python3"
  },
  "language_info": {
   "name": "python",
   "version": "3.8.0"
  }
 },
 "nbformat": 4,
 "nbformat_minor": 4
}
